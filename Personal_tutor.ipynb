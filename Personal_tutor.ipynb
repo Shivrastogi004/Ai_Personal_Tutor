{
 "cells": [
  {
   "cell_type": "code",
   "execution_count": 1,
   "metadata": {},
   "outputs": [
    {
     "name": "stdout",
     "output_type": "stream",
     "text": [
      "📌 First 5 rows of the dataset:\n",
      "   order_id  assignment_id  user_id  assistment_id  problem_id  original  \\\n",
      "0  20224085         232368    73963          42904       76429         0   \n",
      "1  20224095         232368    73963          42904       76430         0   \n",
      "2  20224113         232368    73963          42904       76431         0   \n",
      "3  20224123         232368    73963          42904       76432         0   \n",
      "4  20224142         232368    73963          42904       76433         0   \n",
      "\n",
      "   correct  attempt_count  ms_first_response_time tutor_mode answer_type  \\\n",
      "0      0.0              3                106016.0      tutor    choose_1   \n",
      "1      1.0              1                194187.0      tutor    choose_1   \n",
      "2      1.0              1                 12734.0      tutor     algebra   \n",
      "3      1.0              1                333484.0      tutor    choose_1   \n",
      "4      0.0              2                 52828.0      tutor     algebra   \n",
      "\n",
      "   sequence_id  student_class_id  position problem_set_type  base_sequence_id  \\\n",
      "0       6272.0           11816.0      93.0   MasterySection            6272.0   \n",
      "1       6272.0           11816.0      93.0   MasterySection            6272.0   \n",
      "2       6272.0           11816.0      93.0   MasterySection            6272.0   \n",
      "3       6272.0           11816.0      93.0   MasterySection            6272.0   \n",
      "4       6272.0           11816.0      93.0   MasterySection            6272.0   \n",
      "\n",
      "  list_skill_ids list_skills  teacher_id  school_id  \n",
      "0            NaN         NaN     22763.0       73.0  \n",
      "1            NaN         NaN     22763.0       73.0  \n",
      "2            NaN         NaN     22763.0       73.0  \n",
      "3            NaN         NaN     22763.0       73.0  \n",
      "4            NaN         NaN     22763.0       73.0  \n",
      "\n",
      "📌 Column Names:\n",
      "Index(['order_id', 'assignment_id', 'user_id', 'assistment_id', 'problem_id',\n",
      "       'original', 'correct', 'attempt_count', 'ms_first_response_time',\n",
      "       'tutor_mode', 'answer_type', 'sequence_id', 'student_class_id',\n",
      "       'position', 'problem_set_type', 'base_sequence_id', 'list_skill_ids',\n",
      "       'list_skills', 'teacher_id', 'school_id'],\n",
      "      dtype='object')\n",
      "\n",
      "📌 Missing Values Summary:\n",
      "order_id                       0\n",
      "assignment_id                  0\n",
      "user_id                        0\n",
      "assistment_id                  0\n",
      "problem_id                     0\n",
      "original                       0\n",
      "correct                        0\n",
      "attempt_count                  0\n",
      "ms_first_response_time       125\n",
      "tutor_mode                     0\n",
      "answer_type                    0\n",
      "sequence_id                11006\n",
      "student_class_id           11006\n",
      "position                   11006\n",
      "problem_set_type           11006\n",
      "base_sequence_id           11006\n",
      "list_skill_ids            577989\n",
      "list_skills               577989\n",
      "teacher_id                 11006\n",
      "school_id                  28919\n",
      "dtype: int64\n"
     ]
    }
   ],
   "source": [
    "import pandas as pd\n",
    "\n",
    "# Load dataset (Update filename if necessary)\n",
    "file_path = r\"D:\\Project\\Intel\\assistments_2009_2010.csv\"  # Update with correct path if needed\n",
    "df = pd.read_csv(file_path)\n",
    "\n",
    "# Display first few rows\n",
    "print(\"📌 First 5 rows of the dataset:\")\n",
    "print(df.head())\n",
    "\n",
    "# Display column names\n",
    "print(\"\\n📌 Column Names:\")\n",
    "print(df.columns)\n",
    "\n",
    "# Check for missing values\n",
    "print(\"\\n📌 Missing Values Summary:\")\n",
    "print(df.isnull().sum())\n"
   ]
  },
  {
   "cell_type": "code",
   "execution_count": 2,
   "metadata": {},
   "outputs": [
    {
     "name": "stderr",
     "output_type": "stream",
     "text": [
      "C:\\Users\\Shiv Rastogi\\AppData\\Local\\Temp\\ipykernel_9828\\3201737172.py:7: FutureWarning: A value is trying to be set on a copy of a DataFrame or Series through chained assignment using an inplace method.\n",
      "The behavior will change in pandas 3.0. This inplace method will never work because the intermediate object on which we are setting values always behaves as a copy.\n",
      "\n",
      "For example, when doing 'df[col].method(value, inplace=True)', try using 'df.method({col: value}, inplace=True)' or df[col] = df[col].method(value) instead, to perform the operation inplace on the original object.\n",
      "\n",
      "\n",
      "  df_cleaned['list_skill_ids'].fillna(\"Unknown\", inplace=True)\n",
      "C:\\Users\\Shiv Rastogi\\AppData\\Local\\Temp\\ipykernel_9828\\3201737172.py:8: FutureWarning: A value is trying to be set on a copy of a DataFrame or Series through chained assignment using an inplace method.\n",
      "The behavior will change in pandas 3.0. This inplace method will never work because the intermediate object on which we are setting values always behaves as a copy.\n",
      "\n",
      "For example, when doing 'df[col].method(value, inplace=True)', try using 'df.method({col: value}, inplace=True)' or df[col] = df[col].method(value) instead, to perform the operation inplace on the original object.\n",
      "\n",
      "\n",
      "  df_cleaned['list_skills'].fillna(\"Unknown\", inplace=True)\n",
      "C:\\Users\\Shiv Rastogi\\AppData\\Local\\Temp\\ipykernel_9828\\3201737172.py:9: FutureWarning: A value is trying to be set on a copy of a DataFrame or Series through chained assignment using an inplace method.\n",
      "The behavior will change in pandas 3.0. This inplace method will never work because the intermediate object on which we are setting values always behaves as a copy.\n",
      "\n",
      "For example, when doing 'df[col].method(value, inplace=True)', try using 'df.method({col: value}, inplace=True)' or df[col] = df[col].method(value) instead, to perform the operation inplace on the original object.\n",
      "\n",
      "\n",
      "  df_cleaned['ms_first_response_time'].fillna(df_cleaned['ms_first_response_time'].median(), inplace=True)\n"
     ]
    },
    {
     "name": "stdout",
     "output_type": "stream",
     "text": [
      "📌 Cleaned Dataset Info:\n",
      "<class 'pandas.core.frame.DataFrame'>\n",
      "RangeIndex: 1011079 entries, 0 to 1011078\n",
      "Data columns (total 11 columns):\n",
      " #   Column                  Non-Null Count    Dtype  \n",
      "---  ------                  --------------    -----  \n",
      " 0   user_id                 1011079 non-null  int64  \n",
      " 1   assistment_id           1011079 non-null  int64  \n",
      " 2   problem_id              1011079 non-null  int64  \n",
      " 3   original                1011079 non-null  int64  \n",
      " 4   correct                 1011079 non-null  float64\n",
      " 5   attempt_count           1011079 non-null  int64  \n",
      " 6   ms_first_response_time  1011079 non-null  float64\n",
      " 7   tutor_mode              1011079 non-null  object \n",
      " 8   answer_type             1011079 non-null  object \n",
      " 9   list_skill_ids          1011079 non-null  object \n",
      " 10  list_skills             1011079 non-null  object \n",
      "dtypes: float64(2), int64(5), object(4)\n",
      "memory usage: 84.9+ MB\n",
      "None\n",
      "\n",
      "📌 First 5 rows of cleaned dataset:\n",
      "   user_id  assistment_id  problem_id  original  correct  attempt_count  \\\n",
      "0    73963          42904       76429         0      0.0              3   \n",
      "1    73963          42904       76430         0      1.0              1   \n",
      "2    73963          42904       76431         0      1.0              1   \n",
      "3    73963          42904       76432         0      1.0              1   \n",
      "4    73963          42904       76433         0      0.0              2   \n",
      "\n",
      "   ms_first_response_time tutor_mode answer_type list_skill_ids list_skills  \n",
      "0                106016.0      tutor    choose_1        Unknown     Unknown  \n",
      "1                194187.0      tutor    choose_1        Unknown     Unknown  \n",
      "2                 12734.0      tutor     algebra        Unknown     Unknown  \n",
      "3                333484.0      tutor    choose_1        Unknown     Unknown  \n",
      "4                 52828.0      tutor     algebra        Unknown     Unknown  \n"
     ]
    }
   ],
   "source": [
    "# Drop unnecessary columns\n",
    "columns_to_drop = ['order_id', 'assignment_id', 'teacher_id', 'school_id', \n",
    "                   'sequence_id', 'student_class_id', 'position', 'problem_set_type', 'base_sequence_id']\n",
    "df_cleaned = df.drop(columns=columns_to_drop)\n",
    "\n",
    "# Fill missing values\n",
    "df_cleaned['list_skill_ids'].fillna(\"Unknown\", inplace=True)\n",
    "df_cleaned['list_skills'].fillna(\"Unknown\", inplace=True)\n",
    "df_cleaned['ms_first_response_time'].fillna(df_cleaned['ms_first_response_time'].median(), inplace=True)\n",
    "\n",
    "# Drop rows where essential columns are missing\n",
    "df_cleaned.dropna(subset=['problem_id', 'correct'], inplace=True)\n",
    "\n",
    "# Display cleaned dataset info\n",
    "print(\"📌 Cleaned Dataset Info:\")\n",
    "print(df_cleaned.info())\n",
    "\n",
    "# Display first 5 rows of cleaned data\n",
    "print(\"\\n📌 First 5 rows of cleaned dataset:\")\n",
    "print(df_cleaned.head())\n"
   ]
  },
  {
   "cell_type": "code",
   "execution_count": 3,
   "metadata": {},
   "outputs": [
    {
     "name": "stdout",
     "output_type": "stream",
     "text": [
      "📌 Preprocessed Dataset Info:\n",
      "<class 'pandas.core.frame.DataFrame'>\n",
      "RangeIndex: 1011079 entries, 0 to 1011078\n",
      "Data columns (total 19 columns):\n",
      " #   Column                     Non-Null Count    Dtype  \n",
      "---  ------                     --------------    -----  \n",
      " 0   user_id                    1011079 non-null  int64  \n",
      " 1   assistment_id              1011079 non-null  int64  \n",
      " 2   problem_id                 1011079 non-null  int64  \n",
      " 3   original                   1011079 non-null  int64  \n",
      " 4   correct                    1011079 non-null  float64\n",
      " 5   attempt_count              1011079 non-null  int64  \n",
      " 6   ms_first_response_time     1011079 non-null  float64\n",
      " 7   list_skill_ids             1011079 non-null  object \n",
      " 8   list_skills                1011079 non-null  object \n",
      " 9   answer_type_choose_1       1011079 non-null  float64\n",
      " 10  answer_type_choose_n       1011079 non-null  float64\n",
      " 11  answer_type_external       1011079 non-null  float64\n",
      " 12  answer_type_fill_in_1      1011079 non-null  float64\n",
      " 13  answer_type_open_response  1011079 non-null  float64\n",
      " 14  answer_type_rank           1011079 non-null  float64\n",
      " 15  tutor_mode_pre             1011079 non-null  float64\n",
      " 16  tutor_mode_survey          1011079 non-null  float64\n",
      " 17  tutor_mode_test            1011079 non-null  float64\n",
      " 18  tutor_mode_tutor           1011079 non-null  float64\n",
      "dtypes: float64(12), int64(5), object(2)\n",
      "memory usage: 146.6+ MB\n",
      "None\n",
      "\n",
      "📌 First 5 rows of preprocessed dataset:\n",
      "   user_id  assistment_id  problem_id  original  correct  attempt_count  \\\n",
      "0    73963          42904       76429         0      0.0              3   \n",
      "1    73963          42904       76430         0      1.0              1   \n",
      "2    73963          42904       76431         0      1.0              1   \n",
      "3    73963          42904       76432         0      1.0              1   \n",
      "4    73963          42904       76433         0      0.0              2   \n",
      "\n",
      "   ms_first_response_time list_skill_ids list_skills  answer_type_choose_1  \\\n",
      "0                0.022391        Unknown     Unknown                   1.0   \n",
      "1                0.022642        Unknown     Unknown                   1.0   \n",
      "2                0.022125        Unknown     Unknown                   0.0   \n",
      "3                0.023038        Unknown     Unknown                   1.0   \n",
      "4                0.022239        Unknown     Unknown                   0.0   \n",
      "\n",
      "   answer_type_choose_n  answer_type_external  answer_type_fill_in_1  \\\n",
      "0                   0.0                   0.0                    0.0   \n",
      "1                   0.0                   0.0                    0.0   \n",
      "2                   0.0                   0.0                    0.0   \n",
      "3                   0.0                   0.0                    0.0   \n",
      "4                   0.0                   0.0                    0.0   \n",
      "\n",
      "   answer_type_open_response  answer_type_rank  tutor_mode_pre  \\\n",
      "0                        0.0               0.0             0.0   \n",
      "1                        0.0               0.0             0.0   \n",
      "2                        0.0               0.0             0.0   \n",
      "3                        0.0               0.0             0.0   \n",
      "4                        0.0               0.0             0.0   \n",
      "\n",
      "   tutor_mode_survey  tutor_mode_test  tutor_mode_tutor  \n",
      "0                0.0              0.0               1.0  \n",
      "1                0.0              0.0               1.0  \n",
      "2                0.0              0.0               1.0  \n",
      "3                0.0              0.0               1.0  \n",
      "4                0.0              0.0               1.0  \n"
     ]
    }
   ],
   "source": [
    "from sklearn.preprocessing import MinMaxScaler, OneHotEncoder\n",
    "\n",
    "# One-Hot Encode 'answer_type' and 'tutor_mode'\n",
    "encoder = OneHotEncoder(sparse_output=False, drop='first')\n",
    "encoded_features = encoder.fit_transform(df_cleaned[['answer_type', 'tutor_mode']])\n",
    "encoded_df = pd.DataFrame(encoded_features, columns=encoder.get_feature_names_out())\n",
    "\n",
    "# Normalize 'ms_first_response_time'\n",
    "scaler = MinMaxScaler()\n",
    "df_cleaned['ms_first_response_time'] = scaler.fit_transform(df_cleaned[['ms_first_response_time']])\n",
    "\n",
    "# Drop original categorical columns and merge new encoded features\n",
    "df_preprocessed = df_cleaned.drop(columns=['answer_type', 'tutor_mode'])\n",
    "df_preprocessed = pd.concat([df_preprocessed, encoded_df], axis=1)\n",
    "\n",
    "# Display processed dataset info\n",
    "print(\"📌 Preprocessed Dataset Info:\")\n",
    "print(df_preprocessed.info())\n",
    "\n",
    "# Display first 5 rows of preprocessed data\n",
    "print(\"\\n📌 First 5 rows of preprocessed dataset:\")\n",
    "print(df_preprocessed.head())\n"
   ]
  },
  {
   "cell_type": "code",
   "execution_count": 4,
   "metadata": {},
   "outputs": [
    {
     "name": "stdout",
     "output_type": "stream",
     "text": [
      "📌 Training Set Shape: (808863, 16) (808863,)\n",
      "📌 Testing Set Shape: (202216, 16) (202216,)\n"
     ]
    }
   ],
   "source": [
    "from sklearn.model_selection import train_test_split\n",
    "\n",
    "# Select features (excluding categorical text columns)\n",
    "features = df_preprocessed.drop(columns=['correct', 'list_skill_ids', 'list_skills'])\n",
    "target = df_preprocessed['correct']\n",
    "\n",
    "# Split data into train (80%) and test (20%)\n",
    "X_train, X_test, y_train, y_test = train_test_split(features, target, test_size=0.2, random_state=42)\n",
    "\n",
    "# Display dataset shapes\n",
    "print(\"📌 Training Set Shape:\", X_train.shape, y_train.shape)\n",
    "print(\"📌 Testing Set Shape:\", X_test.shape, y_test.shape)\n"
   ]
  },
  {
   "cell_type": "code",
   "execution_count": 6,
   "metadata": {},
   "outputs": [
    {
     "name": "stderr",
     "output_type": "stream",
     "text": [
      "c:\\Users\\Shiv Rastogi\\AppData\\Local\\Programs\\Python\\Python310\\lib\\site-packages\\keras\\src\\layers\\rnn\\rnn.py:200: UserWarning: Do not pass an `input_shape`/`input_dim` argument to a layer. When using Sequential models, prefer using an `Input(shape)` object as the first layer in the model instead.\n",
      "  super().__init__(**kwargs)\n"
     ]
    },
    {
     "name": "stdout",
     "output_type": "stream",
     "text": [
      "📌 Fixed Model Summary:\n"
     ]
    },
    {
     "data": {
      "text/html": [
       "<pre style=\"white-space:pre;overflow-x:auto;line-height:normal;font-family:Menlo,'DejaVu Sans Mono',consolas,'Courier New',monospace\"><span style=\"font-weight: bold\">Model: \"sequential_1\"</span>\n",
       "</pre>\n"
      ],
      "text/plain": [
       "\u001b[1mModel: \"sequential_1\"\u001b[0m\n"
      ]
     },
     "metadata": {},
     "output_type": "display_data"
    },
    {
     "data": {
      "text/html": [
       "<pre style=\"white-space:pre;overflow-x:auto;line-height:normal;font-family:Menlo,'DejaVu Sans Mono',consolas,'Courier New',monospace\">┏━━━━━━━━━━━━━━━━━━━━━━━━━━━━━━━━━┳━━━━━━━━━━━━━━━━━━━━━━━━┳━━━━━━━━━━━━━━━┓\n",
       "┃<span style=\"font-weight: bold\"> Layer (type)                    </span>┃<span style=\"font-weight: bold\"> Output Shape           </span>┃<span style=\"font-weight: bold\">       Param # </span>┃\n",
       "┡━━━━━━━━━━━━━━━━━━━━━━━━━━━━━━━━━╇━━━━━━━━━━━━━━━━━━━━━━━━╇━━━━━━━━━━━━━━━┩\n",
       "│ lstm_2 (<span style=\"color: #0087ff; text-decoration-color: #0087ff\">LSTM</span>)                   │ (<span style=\"color: #00d7ff; text-decoration-color: #00d7ff\">None</span>, <span style=\"color: #00af00; text-decoration-color: #00af00\">16</span>, <span style=\"color: #00af00; text-decoration-color: #00af00\">64</span>)         │        <span style=\"color: #00af00; text-decoration-color: #00af00\">16,896</span> │\n",
       "├─────────────────────────────────┼────────────────────────┼───────────────┤\n",
       "│ dropout_2 (<span style=\"color: #0087ff; text-decoration-color: #0087ff\">Dropout</span>)             │ (<span style=\"color: #00d7ff; text-decoration-color: #00d7ff\">None</span>, <span style=\"color: #00af00; text-decoration-color: #00af00\">16</span>, <span style=\"color: #00af00; text-decoration-color: #00af00\">64</span>)         │             <span style=\"color: #00af00; text-decoration-color: #00af00\">0</span> │\n",
       "├─────────────────────────────────┼────────────────────────┼───────────────┤\n",
       "│ lstm_3 (<span style=\"color: #0087ff; text-decoration-color: #0087ff\">LSTM</span>)                   │ (<span style=\"color: #00d7ff; text-decoration-color: #00d7ff\">None</span>, <span style=\"color: #00af00; text-decoration-color: #00af00\">32</span>)             │        <span style=\"color: #00af00; text-decoration-color: #00af00\">12,416</span> │\n",
       "├─────────────────────────────────┼────────────────────────┼───────────────┤\n",
       "│ dense_2 (<span style=\"color: #0087ff; text-decoration-color: #0087ff\">Dense</span>)                 │ (<span style=\"color: #00d7ff; text-decoration-color: #00d7ff\">None</span>, <span style=\"color: #00af00; text-decoration-color: #00af00\">16</span>)             │           <span style=\"color: #00af00; text-decoration-color: #00af00\">528</span> │\n",
       "├─────────────────────────────────┼────────────────────────┼───────────────┤\n",
       "│ dropout_3 (<span style=\"color: #0087ff; text-decoration-color: #0087ff\">Dropout</span>)             │ (<span style=\"color: #00d7ff; text-decoration-color: #00d7ff\">None</span>, <span style=\"color: #00af00; text-decoration-color: #00af00\">16</span>)             │             <span style=\"color: #00af00; text-decoration-color: #00af00\">0</span> │\n",
       "├─────────────────────────────────┼────────────────────────┼───────────────┤\n",
       "│ dense_3 (<span style=\"color: #0087ff; text-decoration-color: #0087ff\">Dense</span>)                 │ (<span style=\"color: #00d7ff; text-decoration-color: #00d7ff\">None</span>, <span style=\"color: #00af00; text-decoration-color: #00af00\">1</span>)              │            <span style=\"color: #00af00; text-decoration-color: #00af00\">17</span> │\n",
       "└─────────────────────────────────┴────────────────────────┴───────────────┘\n",
       "</pre>\n"
      ],
      "text/plain": [
       "┏━━━━━━━━━━━━━━━━━━━━━━━━━━━━━━━━━┳━━━━━━━━━━━━━━━━━━━━━━━━┳━━━━━━━━━━━━━━━┓\n",
       "┃\u001b[1m \u001b[0m\u001b[1mLayer (type)                   \u001b[0m\u001b[1m \u001b[0m┃\u001b[1m \u001b[0m\u001b[1mOutput Shape          \u001b[0m\u001b[1m \u001b[0m┃\u001b[1m \u001b[0m\u001b[1m      Param #\u001b[0m\u001b[1m \u001b[0m┃\n",
       "┡━━━━━━━━━━━━━━━━━━━━━━━━━━━━━━━━━╇━━━━━━━━━━━━━━━━━━━━━━━━╇━━━━━━━━━━━━━━━┩\n",
       "│ lstm_2 (\u001b[38;5;33mLSTM\u001b[0m)                   │ (\u001b[38;5;45mNone\u001b[0m, \u001b[38;5;34m16\u001b[0m, \u001b[38;5;34m64\u001b[0m)         │        \u001b[38;5;34m16,896\u001b[0m │\n",
       "├─────────────────────────────────┼────────────────────────┼───────────────┤\n",
       "│ dropout_2 (\u001b[38;5;33mDropout\u001b[0m)             │ (\u001b[38;5;45mNone\u001b[0m, \u001b[38;5;34m16\u001b[0m, \u001b[38;5;34m64\u001b[0m)         │             \u001b[38;5;34m0\u001b[0m │\n",
       "├─────────────────────────────────┼────────────────────────┼───────────────┤\n",
       "│ lstm_3 (\u001b[38;5;33mLSTM\u001b[0m)                   │ (\u001b[38;5;45mNone\u001b[0m, \u001b[38;5;34m32\u001b[0m)             │        \u001b[38;5;34m12,416\u001b[0m │\n",
       "├─────────────────────────────────┼────────────────────────┼───────────────┤\n",
       "│ dense_2 (\u001b[38;5;33mDense\u001b[0m)                 │ (\u001b[38;5;45mNone\u001b[0m, \u001b[38;5;34m16\u001b[0m)             │           \u001b[38;5;34m528\u001b[0m │\n",
       "├─────────────────────────────────┼────────────────────────┼───────────────┤\n",
       "│ dropout_3 (\u001b[38;5;33mDropout\u001b[0m)             │ (\u001b[38;5;45mNone\u001b[0m, \u001b[38;5;34m16\u001b[0m)             │             \u001b[38;5;34m0\u001b[0m │\n",
       "├─────────────────────────────────┼────────────────────────┼───────────────┤\n",
       "│ dense_3 (\u001b[38;5;33mDense\u001b[0m)                 │ (\u001b[38;5;45mNone\u001b[0m, \u001b[38;5;34m1\u001b[0m)              │            \u001b[38;5;34m17\u001b[0m │\n",
       "└─────────────────────────────────┴────────────────────────┴───────────────┘\n"
      ]
     },
     "metadata": {},
     "output_type": "display_data"
    },
    {
     "data": {
      "text/html": [
       "<pre style=\"white-space:pre;overflow-x:auto;line-height:normal;font-family:Menlo,'DejaVu Sans Mono',consolas,'Courier New',monospace\"><span style=\"font-weight: bold\"> Total params: </span><span style=\"color: #00af00; text-decoration-color: #00af00\">29,857</span> (116.63 KB)\n",
       "</pre>\n"
      ],
      "text/plain": [
       "\u001b[1m Total params: \u001b[0m\u001b[38;5;34m29,857\u001b[0m (116.63 KB)\n"
      ]
     },
     "metadata": {},
     "output_type": "display_data"
    },
    {
     "data": {
      "text/html": [
       "<pre style=\"white-space:pre;overflow-x:auto;line-height:normal;font-family:Menlo,'DejaVu Sans Mono',consolas,'Courier New',monospace\"><span style=\"font-weight: bold\"> Trainable params: </span><span style=\"color: #00af00; text-decoration-color: #00af00\">29,857</span> (116.63 KB)\n",
       "</pre>\n"
      ],
      "text/plain": [
       "\u001b[1m Trainable params: \u001b[0m\u001b[38;5;34m29,857\u001b[0m (116.63 KB)\n"
      ]
     },
     "metadata": {},
     "output_type": "display_data"
    },
    {
     "data": {
      "text/html": [
       "<pre style=\"white-space:pre;overflow-x:auto;line-height:normal;font-family:Menlo,'DejaVu Sans Mono',consolas,'Courier New',monospace\"><span style=\"font-weight: bold\"> Non-trainable params: </span><span style=\"color: #00af00; text-decoration-color: #00af00\">0</span> (0.00 B)\n",
       "</pre>\n"
      ],
      "text/plain": [
       "\u001b[1m Non-trainable params: \u001b[0m\u001b[38;5;34m0\u001b[0m (0.00 B)\n"
      ]
     },
     "metadata": {},
     "output_type": "display_data"
    }
   ],
   "source": [
    "import tensorflow as tf\n",
    "from tensorflow.keras.models import Sequential\n",
    "from tensorflow.keras.layers import LSTM, Dense, Dropout\n",
    "\n",
    "# Define the fixed LSTM model\n",
    "model = Sequential([\n",
    "    LSTM(64, input_shape=(X_train.shape[1], 1), return_sequences=True),\n",
    "    Dropout(0.3),\n",
    "    LSTM(32),\n",
    "    Dense(16, activation='relu'),\n",
    "    Dropout(0.2),\n",
    "    Dense(1, activation='sigmoid')  # Output probability of correct answer (0 or 1)\n",
    "])\n",
    "\n",
    "# Compile the model\n",
    "model.compile(loss='binary_crossentropy', optimizer=tf.keras.optimizers.Adam(learning_rate=0.001), metrics=['accuracy'])\n",
    "\n",
    "# Display model summary\n",
    "print(\"📌 Fixed Model Summary:\")\n",
    "model.summary()\n",
    "\n"
   ]
  },
  {
   "cell_type": "code",
   "execution_count": 7,
   "metadata": {},
   "outputs": [
    {
     "name": "stdout",
     "output_type": "stream",
     "text": [
      "Epoch 1/10\n",
      "\u001b[1m12639/12639\u001b[0m \u001b[32m━━━━━━━━━━━━━━━━━━━━\u001b[0m\u001b[37m\u001b[0m \u001b[1m360s\u001b[0m 28ms/step - accuracy: 0.7176 - loss: 0.5582 - val_accuracy: 0.8038 - val_loss: 0.4453\n",
      "Epoch 2/10\n",
      "\u001b[1m12639/12639\u001b[0m \u001b[32m━━━━━━━━━━━━━━━━━━━━\u001b[0m\u001b[37m\u001b[0m \u001b[1m246s\u001b[0m 19ms/step - accuracy: 0.7621 - loss: 0.4893 - val_accuracy: 0.8047 - val_loss: 0.4290\n",
      "Epoch 3/10\n",
      "\u001b[1m12639/12639\u001b[0m \u001b[32m━━━━━━━━━━━━━━━━━━━━\u001b[0m\u001b[37m\u001b[0m \u001b[1m239s\u001b[0m 19ms/step - accuracy: 0.8044 - loss: 0.4331 - val_accuracy: 0.8055 - val_loss: 0.4271\n",
      "Epoch 4/10\n",
      "\u001b[1m12639/12639\u001b[0m \u001b[32m━━━━━━━━━━━━━━━━━━━━\u001b[0m\u001b[37m\u001b[0m \u001b[1m241s\u001b[0m 19ms/step - accuracy: 0.8041 - loss: 0.4322 - val_accuracy: 0.8053 - val_loss: 0.4271\n",
      "Epoch 5/10\n",
      "\u001b[1m12639/12639\u001b[0m \u001b[32m━━━━━━━━━━━━━━━━━━━━\u001b[0m\u001b[37m\u001b[0m \u001b[1m245s\u001b[0m 19ms/step - accuracy: 0.7864 - loss: 0.4692 - val_accuracy: 0.8060 - val_loss: 0.4268\n",
      "Epoch 6/10\n",
      "\u001b[1m12639/12639\u001b[0m \u001b[32m━━━━━━━━━━━━━━━━━━━━\u001b[0m\u001b[37m\u001b[0m \u001b[1m256s\u001b[0m 20ms/step - accuracy: 0.8063 - loss: 0.4272 - val_accuracy: 0.8061 - val_loss: 0.4266\n",
      "Epoch 7/10\n",
      "\u001b[1m12639/12639\u001b[0m \u001b[32m━━━━━━━━━━━━━━━━━━━━\u001b[0m\u001b[37m\u001b[0m \u001b[1m353s\u001b[0m 28ms/step - accuracy: 0.8074 - loss: 0.4257 - val_accuracy: 0.8061 - val_loss: 0.4263\n",
      "Epoch 8/10\n",
      "\u001b[1m12639/12639\u001b[0m \u001b[32m━━━━━━━━━━━━━━━━━━━━\u001b[0m\u001b[37m\u001b[0m \u001b[1m251s\u001b[0m 20ms/step - accuracy: 0.8069 - loss: 0.4263 - val_accuracy: 0.8061 - val_loss: 0.4265\n",
      "Epoch 9/10\n",
      "\u001b[1m12639/12639\u001b[0m \u001b[32m━━━━━━━━━━━━━━━━━━━━\u001b[0m\u001b[37m\u001b[0m \u001b[1m259s\u001b[0m 21ms/step - accuracy: 0.8076 - loss: 0.4251 - val_accuracy: 0.8061 - val_loss: 0.4267\n",
      "Epoch 10/10\n",
      "\u001b[1m12639/12639\u001b[0m \u001b[32m━━━━━━━━━━━━━━━━━━━━\u001b[0m\u001b[37m\u001b[0m \u001b[1m252s\u001b[0m 20ms/step - accuracy: 0.8070 - loss: 0.4263 - val_accuracy: 0.8060 - val_loss: 0.4265\n",
      "📌 Model Training Complete.\n"
     ]
    }
   ],
   "source": [
    "import numpy as np\n",
    "\n",
    "# Reshape input data for LSTM: (samples, time steps, features)\n",
    "X_train_reshaped = np.expand_dims(X_train, axis=-1)  # Add extra dimension\n",
    "X_test_reshaped = np.expand_dims(X_test, axis=-1)    # For evaluation\n",
    "\n",
    "# Train the model\n",
    "history = model.fit(\n",
    "    X_train_reshaped, y_train,\n",
    "    validation_data=(X_test_reshaped, y_test),\n",
    "    epochs=10,  # Train for 10 epochs (adjustable)\n",
    "    batch_size=64,  # Optimal batch size for performance\n",
    "    verbose=1\n",
    ")\n",
    "\n",
    "# Display training history\n",
    "print(\"📌 Model Training Complete.\")\n"
   ]
  },
  {
   "cell_type": "code",
   "execution_count": 8,
   "metadata": {},
   "outputs": [
    {
     "name": "stderr",
     "output_type": "stream",
     "text": [
      "WARNING:absl:You are saving your model as an HDF5 file via `model.save()` or `keras.saving.save_model(model)`. This file format is considered legacy. We recommend using instead the native Keras format, e.g. `model.save('my_model.keras')` or `keras.saving.save_model(model, 'my_model.keras')`. \n"
     ]
    },
    {
     "name": "stdout",
     "output_type": "stream",
     "text": [
      "📌 Model Saved Successfully!\n"
     ]
    }
   ],
   "source": [
    "import matplotlib.pyplot as plt\n",
    "\n",
    "# Save the trained model\n",
    "model.save(\"knowledge_tracing_lstm.h5\")\n",
    "print(\"📌 Model Saved Successfully!\")\n",
    "\n",
    "\n",
    "\n"
   ]
  },
  {
   "cell_type": "code",
   "execution_count": 9,
   "metadata": {},
   "outputs": [
    {
     "name": "stdout",
     "output_type": "stream",
     "text": [
      "\u001b[1m6320/6320\u001b[0m \u001b[32m━━━━━━━━━━━━━━━━━━━━\u001b[0m\u001b[37m\u001b[0m \u001b[1m50s\u001b[0m 8ms/step - accuracy: 0.8051 - loss: 0.4275\n",
      "📌 Test Accuracy: 0.8060\n",
      "📌 Test Loss: 0.4265\n"
     ]
    }
   ],
   "source": [
    "# Evaluate the model on test data\n",
    "test_loss, test_accuracy = model.evaluate(X_test_reshaped, y_test, verbose=1)\n",
    "print(f\"📌 Test Accuracy: {test_accuracy:.4f}\")\n",
    "print(f\"📌 Test Loss: {test_loss:.4f}\")"
   ]
  },
  {
   "cell_type": "code",
   "execution_count": 10,
   "metadata": {},
   "outputs": [
    {
     "data": {
      "image/png": "[encoded data removed]",
      "text/plain": [
       "<Figure size 1200x500 with 2 Axes>"
      ]
     },
     "metadata": {},
     "output_type": "display_data"
    }
   ],
   "source": [
    "# Plot training history (loss & accuracy)\n",
    "plt.figure(figsize=(12,5))\n",
    "\n",
    "# Loss plot\n",
    "plt.subplot(1,2,1)\n",
    "plt.plot(history.history['loss'], label='Train Loss')\n",
    "plt.plot(history.history['val_loss'], label='Validation Loss')\n",
    "plt.xlabel(\"Epochs\")\n",
    "plt.ylabel(\"Loss\")\n",
    "plt.title(\"Training vs Validation Loss\")\n",
    "plt.legend()\n",
    "\n",
    "# Accuracy plot\n",
    "plt.subplot(1,2,2)\n",
    "plt.plot(history.history['accuracy'], label='Train Accuracy')\n",
    "plt.plot(history.history['val_accuracy'], label='Validation Accuracy')\n",
    "plt.xlabel(\"Epochs\")\n",
    "plt.ylabel(\"Accuracy\")\n",
    "plt.title(\"Training vs Validation Accuracy\")\n",
    "plt.legend()\n",
    "\n",
    "plt.show()\n"
   ]
  },
  {
   "cell_type": "code",
   "execution_count": 13,
   "metadata": {},
   "outputs": [
    {
     "name": "stdout",
     "output_type": "stream",
     "text": [
      "RMSE: 0.4090\n",
      "📌 Model RMSE: 0.4090\n",
      "📌 Adaptive Question Recommendation Model Saved Successfully!\n"
     ]
    }
   ],
   "source": [
    "from surprise import SVD\n",
    "from surprise import Dataset\n",
    "from surprise import Reader\n",
    "from surprise.model_selection import train_test_split\n",
    "from surprise import accuracy\n",
    "\n",
    "# Prepare dataset for collaborative filtering\n",
    "reader = Reader(rating_scale=(0, 1))  # Correct answers are either 0 or 1\n",
    "data = Dataset.load_from_df(df_preprocessed[['user_id', 'problem_id', 'correct']], reader)\n",
    "\n",
    "# Split into train-test sets\n",
    "trainset, testset = train_test_split(data, test_size=0.2, random_state=42)\n",
    "\n",
    "# Train the SVD model\n",
    "svd_model = SVD(n_factors=50, random_state=42)\n",
    "svd_model.fit(trainset)\n",
    "\n",
    "# Make predictions on the test set\n",
    "predictions = svd_model.test(testset)\n",
    "\n",
    "# Evaluate model accuracy (RMSE - Root Mean Square Error)\n",
    "rmse = accuracy.rmse(predictions)\n",
    "print(f\"📌 Model RMSE: {rmse:.4f}\")\n",
    "\n",
    "# Save the trained model\n",
    "import pickle\n",
    "with open(\"adaptive_question_recommendation_svd.pkl\", \"wb\") as f:\n",
    "    pickle.dump(svd_model, f)\n",
    "\n",
    "print(\"📌 Adaptive Question Recommendation Model Saved Successfully!\")\n"
   ]
  },
  {
   "cell_type": "code",
   "execution_count": 12,
   "metadata": {},
   "outputs": [
    {
     "name": "stdout",
     "output_type": "stream",
     "text": [
      "Collecting surprise\n",
      "  Downloading surprise-0.1-py2.py3-none-any.whl (1.8 kB)\n",
      "Collecting scikit-surprise\n",
      "  Downloading scikit_surprise-1.1.4.tar.gz (154 kB)\n",
      "  Installing build dependencies: started\n",
      "  Installing build dependencies: finished with status 'done'\n",
      "  Getting requirements to build wheel: started\n",
      "  Getting requirements to build wheel: finished with status 'done'\n",
      "    Preparing wheel metadata: started\n",
      "    Preparing wheel metadata: finished with status 'done'\n",
      "Requirement already satisfied: scipy>=1.6.0 in c:\\users\\shiv rastogi\\appdata\\local\\programs\\python\\python310\\lib\\site-packages (from scikit-surprise->surprise) (1.13.1)\n",
      "Requirement already satisfied: numpy>=1.19.5 in c:\\users\\shiv rastogi\\appdata\\roaming\\python\\python310\\site-packages (from scikit-surprise->surprise) (1.26.4)\n",
      "Requirement already satisfied: joblib>=1.2.0 in c:\\users\\shiv rastogi\\appdata\\local\\programs\\python\\python310\\lib\\site-packages (from scikit-surprise->surprise) (1.4.2)\n",
      "Building wheels for collected packages: scikit-surprise\n",
      "  Building wheel for scikit-surprise (PEP 517): started\n",
      "  Building wheel for scikit-surprise (PEP 517): finished with status 'done'\n",
      "  Created wheel for scikit-surprise: filename=scikit_surprise-1.1.4-cp310-cp310-win_amd64.whl size=1277472 sha256=a3d36bc44a766df1cabef3637d6c175a82ca0a7ef3dbf989317972b9fd23da9e\n",
      "  Stored in directory: c:\\users\\shiv rastogi\\appdata\\local\\pip\\cache\\wheels\\4b\\3f\\df\\6acbf0a40397d9bf3ff97f582cc22fb9ce66adde75bc71fd54\n",
      "Successfully built scikit-surprise\n",
      "Installing collected packages: scikit-surprise, surprise\n",
      "Successfully installed scikit-surprise-1.1.4 surprise-0.1\n",
      "Note: you may need to restart the kernel to use updated packages.\n"
     ]
    },
    {
     "name": "stderr",
     "output_type": "stream",
     "text": [
      "WARNING: You are using pip version 21.2.3; however, version 25.0.1 is available.\n",
      "You should consider upgrading via the 'c:\\Users\\Shiv Rastogi\\AppData\\Local\\Programs\\Python\\Python310\\python.exe -m pip install --upgrade pip' command.\n"
     ]
    }
   ],
   "source": [
    "pip install surprise"
   ]
  },
  {
   "cell_type": "code",
   "execution_count": 14,
   "metadata": {},
   "outputs": [
    {
     "name": "stdout",
     "output_type": "stream",
     "text": [
      "📌 Q-Learning Training Completed!\n",
      "📌 Q-Table Saved Successfully!\n"
     ]
    }
   ],
   "source": [
    "import numpy as np\n",
    "import random\n",
    "\n",
    "# Define Q-learning parameters\n",
    "num_questions = df_preprocessed['problem_id'].nunique()  # Total unique questions\n",
    "num_students = df_preprocessed['user_id'].nunique()  # Total unique students\n",
    "Q_table = np.zeros((num_students, num_questions))  # Initialize Q-table\n",
    "\n",
    "alpha = 0.1  # Learning rate\n",
    "gamma = 0.9  # Discount factor\n",
    "epsilon = 0.1  # Exploration-exploitation tradeoff\n",
    "\n",
    "# Train Q-Learning agent\n",
    "for index, row in df_preprocessed.iterrows():\n",
    "    student = int(row['user_id']) % num_students\n",
    "    question = int(row['problem_id']) % num_questions\n",
    "    reward = 1 if row['correct'] == 1 else -1  # Reward system\n",
    "    \n",
    "    # Choose action (question) using epsilon-greedy strategy\n",
    "    if random.uniform(0, 1) < epsilon:\n",
    "        next_question = random.randint(0, num_questions - 1)  # Explore\n",
    "    else:\n",
    "        next_question = np.argmax(Q_table[student, :])  # Exploit best-known action\n",
    "    \n",
    "    # Update Q-table using the Bellman equation\n",
    "    Q_table[student, question] = Q_table[student, question] + alpha * (\n",
    "        reward + gamma * np.max(Q_table[student, :]) - Q_table[student, question]\n",
    "    )\n",
    "\n",
    "print(\"📌 Q-Learning Training Completed!\")\n",
    "\n",
    "# Save Q-table for future use\n",
    "np.save(\"q_learning_difficulty_adjustment.npy\", Q_table)\n",
    "print(\"📌 Q-Table Saved Successfully!\")\n"
   ]
  },
  {
   "cell_type": "code",
   "execution_count": 18,
   "metadata": {},
   "outputs": [
    {
     "name": "stdout",
     "output_type": "stream",
     "text": [
      "📌 Student Performance Prediction Model RMSE: 0.3580\n",
      "📌 Student Performance Prediction Model Saved Successfully!\n"
     ]
    }
   ],
   "source": [
    "import xgboost as xgb\n",
    "from sklearn.metrics import mean_squared_error\n",
    "\n",
    "# Select features for performance prediction\n",
    "features = ['attempt_count', 'ms_first_response_time', 'answer_type_choose_1',\n",
    "            'answer_type_choose_n', 'answer_type_external', 'answer_type_fill_in_1',\n",
    "            'answer_type_open_response', 'answer_type_rank', 'tutor_mode_pre',\n",
    "            'tutor_mode_survey', 'tutor_mode_test', 'tutor_mode_tutor']\n",
    "\n",
    "X_train_perf = X_train[features]\n",
    "X_test_perf = X_test[features]\n",
    "y_train_perf = y_train\n",
    "y_test_perf = y_test\n",
    "\n",
    "# Train XGBoost Model\n",
    "xgb_model = xgb.XGBRegressor(objective='reg:squarederror', n_estimators=100, learning_rate=0.1)\n",
    "xgb_model.fit(X_train_perf, y_train_perf)\n",
    "\n",
    "# Make predictions\n",
    "y_pred = xgb_model.predict(X_test_perf)\n",
    "\n",
    "# Compute RMSE manually (no 'squared' argument issue)\n",
    "rmse = mean_squared_error(y_test_perf, y_pred) ** 0.5\n",
    "print(f\"📌 Student Performance Prediction Model RMSE: {rmse:.4f}\")\n",
    "\n",
    "# Save the trained model\n",
    "xgb_model.save_model(\"student_performance_prediction_xgb.json\")\n",
    "print(\"📌 Student Performance Prediction Model Saved Successfully!\")\n"
   ]
  },
  {
   "cell_type": "code",
   "execution_count": 16,
   "metadata": {},
   "outputs": [
    {
     "name": "stdout",
     "output_type": "stream",
     "text": [
      "Collecting xgboost\n",
      "  Downloading xgboost-2.1.4-py3-none-win_amd64.whl (124.9 MB)\n",
      "Requirement already satisfied: numpy in c:\\users\\shiv rastogi\\appdata\\roaming\\python\\python310\\site-packages (from xgboost) (1.26.4)\n",
      "Requirement already satisfied: scipy in c:\\users\\shiv rastogi\\appdata\\local\\programs\\python\\python310\\lib\\site-packages (from xgboost) (1.13.1)\n",
      "Installing collected packages: xgboost\n",
      "Successfully installed xgboost-2.1.4\n",
      "Note: you may need to restart the kernel to use updated packages.\n"
     ]
    },
    {
     "name": "stderr",
     "output_type": "stream",
     "text": [
      "WARNING: You are using pip version 21.2.3; however, version 25.0.1 is available.\n",
      "You should consider upgrading via the 'c:\\Users\\Shiv Rastogi\\AppData\\Local\\Programs\\Python\\Python310\\python.exe -m pip install --upgrade pip' command.\n"
     ]
    }
   ],
   "source": [
    "pip install xgboost"
   ]
  },
  {
   "cell_type": "code",
   "execution_count": 27,
   "metadata": {},
   "outputs": [
    {
     "name": "stdout",
     "output_type": "stream",
     "text": [
      "Q_table shape: (8519, 35978)\n"
     ]
    }
   ],
   "source": [
    "print(\"Q_table shape:\", Q_table.shape)\n"
   ]
  },
  {
   "cell_type": "code",
   "execution_count": 28,
   "metadata": {},
   "outputs": [
    {
     "name": "stdout",
     "output_type": "stream",
     "text": [
      "Valid user_id range: [0, 1, 2, 3, 4, 5, 6, 7, 8, 9] ... to [8509, 8510, 8511, 8512, 8513, 8514, 8515, 8516, 8517, 8518]\n"
     ]
    }
   ],
   "source": [
    "valid_user_ids = list(range(Q_table.shape[0]))  # List of valid user IDs\n",
    "print(\"Valid user_id range:\", valid_user_ids[:10], \"... to\", valid_user_ids[-10:])  # Print some sample IDs\n"
   ]
  },
  {
   "cell_type": "code",
   "execution_count": 29,
   "metadata": {},
   "outputs": [
    {
     "name": "stdout",
     "output_type": "stream",
     "text": [
      "XGBoost Model Loaded: XGBRegressor(base_score='6.289977E-1', booster='gbtree', callbacks=None,\n",
      "             colsample_bylevel=None, colsample_bynode=None,\n",
      "             colsample_bytree=None, device=None, early_stopping_rounds=None,\n",
      "             enable_categorical=False, eval_metric=None,\n",
      "             feature_types=['int', 'float', 'float', 'float', 'float', 'float',\n",
      "                            'float', 'float', 'float', 'float', 'float',\n",
      "                            'float'],\n",
      "             gamma=None, grow_policy=None, importance_type=None,\n",
      "             interaction_constraints=None, learning_rate=None, max_bin=None,\n",
      "             max_cat_threshold=None, max_cat_to_onehot=None,\n",
      "             max_delta_step=None, max_depth=None, max_leaves=None,\n",
      "             min_child_weight=None, missing=nan, monotone_constraints=None,\n",
      "             multi_strategy=None, n_estimators=None, n_jobs=None,\n",
      "             num_parallel_tree=None, random_state=None, ...)\n"
     ]
    }
   ],
   "source": [
    "print(\"XGBoost Model Loaded:\", student_performance_model)\n"
   ]
  },
  {
   "cell_type": "code",
   "execution_count": 32,
   "metadata": {},
   "outputs": [
    {
     "name": "stdout",
     "output_type": "stream",
     "text": [
      "Model Expected Features: ['attempt_count' 'ms_first_response_time' 'answer_type_choose_1'\n",
      " 'answer_type_choose_n' 'answer_type_external' 'answer_type_fill_in_1'\n",
      " 'answer_type_open_response' 'answer_type_rank' 'tutor_mode_pre'\n",
      " 'tutor_mode_survey' 'tutor_mode_test' 'tutor_mode_tutor']\n"
     ]
    }
   ],
   "source": [
    "print(\"Model Expected Features:\", student_performance_model.feature_names_in_)\n"
   ]
  },
  {
   "cell_type": "code",
   "execution_count": 33,
   "metadata": {},
   "outputs": [
    {
     "name": "stdout",
     "output_type": "stream",
     "text": [
      "✅ Reshaped Input: (1, 12)\n",
      "📌 Test Prediction Output: [0.03784478]\n"
     ]
    }
   ],
   "source": [
    "# Example input with placeholder values for missing features\n",
    "test_input = np.array([[3, 2000, 1, 0, 0, 0, 0, 0, 0, 0, 1, 0]])  # 12 features\n",
    "\n",
    "# Ensure correct shape\n",
    "print(\"✅ Reshaped Input:\", test_input.shape)\n",
    "\n",
    "# Make prediction\n",
    "prediction = student_performance_model.predict(test_input)\n",
    "print(\"📌 Test Prediction Output:\", prediction)\n"
   ]
  },
  {
   "cell_type": "code",
   "execution_count": 34,
   "metadata": {},
   "outputs": [
    {
     "name": "stdout",
     "output_type": "stream",
     "text": [
      "✅ Model Loaded Successfully\n",
      "📌 Expected Features: ['attempt_count' 'ms_first_response_time' 'answer_type_choose_1'\n",
      " 'answer_type_choose_n' 'answer_type_external' 'answer_type_fill_in_1'\n",
      " 'answer_type_open_response' 'answer_type_rank' 'tutor_mode_pre'\n",
      " 'tutor_mode_survey' 'tutor_mode_test' 'tutor_mode_tutor']\n",
      "📌 Model Params: {'objective': 'reg:squarederror', 'base_score': '6.289977E-1', 'booster': 'gbtree', 'callbacks': None, 'colsample_bylevel': None, 'colsample_bynode': None, 'colsample_bytree': None, 'device': None, 'early_stopping_rounds': None, 'enable_categorical': False, 'eval_metric': None, 'feature_types': ['int', 'float', 'float', 'float', 'float', 'float', 'float', 'float', 'float', 'float', 'float', 'float'], 'gamma': None, 'grow_policy': None, 'importance_type': None, 'interaction_constraints': None, 'learning_rate': None, 'max_bin': None, 'max_cat_threshold': None, 'max_cat_to_onehot': None, 'max_delta_step': None, 'max_depth': 6, 'max_leaves': None, 'min_child_weight': None, 'missing': nan, 'monotone_constraints': None, 'multi_strategy': None, 'n_estimators': 100, 'n_jobs': None, 'num_parallel_tree': None, 'random_state': None, 'reg_alpha': None, 'reg_lambda': None, 'sampling_method': None, 'scale_pos_weight': None, 'subsample': None, 'tree_method': None, 'validate_parameters': None, 'verbosity': None}\n"
     ]
    }
   ],
   "source": [
    "print(\"✅ Model Loaded Successfully\")\n",
    "print(\"📌 Expected Features:\", student_performance_model.feature_names_in_)\n",
    "print(\"📌 Model Params:\", student_performance_model.get_params())\n"
   ]
  }
 ],
 "metadata": {
  "kernelspec": {
   "display_name": "Python 3",
   "language": "python",
   "name": "python3"
  },
  "language_info": {
   "codemirror_mode": {
    "name": "ipython",
    "version": 3
   },
   "file_extension": ".py",
   "mimetype": "text/x-python",
   "name": "python",
   "nbconvert_exporter": "python",
   "pygments_lexer": "ipython3",
   "version": "3.10.0"
  }
 },
 "nbformat": 4,
 "nbformat_minor": 2
}
